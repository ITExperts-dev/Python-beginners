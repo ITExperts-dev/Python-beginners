{
 "cells": [
  {
   "cell_type": "code",
   "execution_count": 12,
   "metadata": {},
   "outputs": [
    {
     "name": "stdout",
     "output_type": "stream",
     "text": [
      "List_2=  [11, 12, 13]\n",
      "List appending=  [11, 12, 13, 16]\n",
      "List insertion=  [11, 12, 13, 20, 16]\n"
     ]
    }
   ],
   "source": [
    "#itexpert127001@gmail.com\n",
    "#List\n",
    "\n",
    "# Mutable nature\n",
    "#Declare empty list\n",
    "\n",
    "L =[]\n",
    "\n",
    "#print(\"empty list L[]=\",L)\n",
    "\n",
    "# A list of three different-type objects\n",
    "L = [1, 2,3]\n",
    "#print(\"List is= \",L)\n",
    "\n",
    "#length\n",
    "length = len(L)\n",
    "#print(\"Length=\",length)\n",
    "\n",
    "\n",
    "#we can index, slice, and so on, just as for strings:\n",
    "\n",
    "#L[0]\n",
    "#print(\"List element at index L[0]\" ,L[0])\n",
    "\n",
    "#L[:-1]\n",
    "#print(\"L[:-1]=\",L[:-1])\n",
    "\n",
    "# L + [4, 5, 6]\n",
    "#print(\"List concatenation= \", L + [4, 5])\n",
    "\n",
    "#var= [5,5,3] * 3\n",
    "#print(\"List Multiplication= \",var)\n",
    "\n",
    "\n",
    "List_2 = [11,12,13]\n",
    "print(\"List_2= \",List_2)\n",
    "\n",
    "List_2.append(16)\n",
    "print(\"List appending= \",List_2)\n",
    "\n",
    "\n",
    "List_2.insert(3,20)\n",
    "print(\"List insertion= \",List_2)\n",
    "\n",
    "\n",
    "\n",
    "\n"
   ]
  },
  {
   "cell_type": "code",
   "execution_count": null,
   "metadata": {},
   "outputs": [],
   "source": []
  }
 ],
 "metadata": {
  "kernelspec": {
   "display_name": "Python 3",
   "language": "python",
   "name": "python3"
  },
  "language_info": {
   "codemirror_mode": {
    "name": "ipython",
    "version": 3
   },
   "file_extension": ".py",
   "mimetype": "text/x-python",
   "name": "python",
   "nbconvert_exporter": "python",
   "pygments_lexer": "ipython3",
   "version": "3.7.0"
  }
 },
 "nbformat": 4,
 "nbformat_minor": 2
}
